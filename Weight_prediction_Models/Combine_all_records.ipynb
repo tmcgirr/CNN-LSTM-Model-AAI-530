{
 "cells": [
  {
   "cell_type": "code",
   "execution_count": 1,
   "metadata": {},
   "outputs": [
    {
     "name": "stderr",
     "output_type": "stream",
     "text": [
      "/home/rupamay/anaconda3/lib/python3.8/site-packages/pandas/core/computation/expressions.py:20: UserWarning: Pandas requires version '2.7.3' or newer of 'numexpr' (version '2.7.1' currently installed).\n",
      "  from pandas.core.computation.check import NUMEXPR_INSTALLED\n"
     ]
    }
   ],
   "source": [
    "import pandas as pd \n",
    "import re\n",
    "import os"
   ]
  },
  {
   "cell_type": "code",
   "execution_count": 2,
   "metadata": {},
   "outputs": [
    {
     "name": "stdout",
     "output_type": "stream",
     "text": [
      "cleaned_data_ Folder/cleaned_Pond8.csv\n",
      "cleaned_data_ Folder/cleaned_Pond3.csv\n",
      "cleaned_data_ Folder/cleaned_Pond4.csv\n",
      "cleaned_data_ Folder/cleaned_Pond10.csv\n",
      "cleaned_data_ Folder/cleaned_Pond2.csv\n",
      "cleaned_data_ Folder/cleaned_Pond7.csv\n",
      "cleaned_data_ Folder/cleaned_Pond1.csv\n",
      "cleaned_data_ Folder/cleaned_Pond9.csv\n",
      "cleaned_data_ Folder/cleaned_Pond6.csv\n",
      "9\n"
     ]
    }
   ],
   "source": [
    "# create an empty list to store the dataframes\n",
    "dataframes_list = []\n",
    "\n",
    "# get the path of the folder containing the csv files\n",
    "csv_folder_path = 'cleaned_data_ Folder'\n",
    "\n",
    "# loop through the files in the folder\n",
    "for file in os.listdir(csv_folder_path):\n",
    "    # check if the file is a csv file\n",
    "    if file.endswith(\".csv\"):\n",
    "        # read the csv file into a dataframe\n",
    "        print(os.path.join(csv_folder_path, file))\n",
    "        df = pd.read_csv(os.path.join(csv_folder_path, file),delimiter=',',low_memory=False)\n",
    "        df.set_index([\"Date\"],inplace=True)\n",
    "        df.drop(['Unnamed: 0'], axis=1, inplace=True) \n",
    "        df.drop(['Datetime'], axis=1, inplace=True) \n",
    "        df.drop(['Time'], axis=1, inplace=True) \n",
    "        df.drop(['Fish_Length'], axis=1, inplace=True) \n",
    "        df.drop(['Fish_Weight'], axis=1, inplace=True)\n",
    "        if (df.shape[1]==8):\n",
    "            df.drop(['Population'], axis=1, inplace=True) \n",
    "        df_daily = df.groupby(\"Date\").mean()\n",
    "        df_daily.reset_index(inplace=True)\n",
    "        df_daily.drop([\"Date\"], axis=1, inplace=True)\n",
    "        # append the dataframe to the list\n",
    "        dataframes_list.append(df_daily)\n",
    "\n",
    "# print the list of dataframes\n",
    "print(len(dataframes_list))"
   ]
  },
  {
   "cell_type": "markdown",
   "metadata": {},
   "source": [
    "Calculating total records in all the ponds"
   ]
  },
  {
   "cell_type": "code",
   "execution_count": 3,
   "metadata": {},
   "outputs": [
    {
     "name": "stdout",
     "output_type": "stream",
     "text": [
      "(40, 7)\n",
      "(66, 7)\n",
      "(59, 7)\n",
      "(4, 7)\n",
      "(102, 7)\n",
      "(61, 7)\n",
      "(72, 7)\n",
      "(94, 7)\n",
      "(79, 7)\n",
      "Total records  577\n"
     ]
    }
   ],
   "source": [
    "size=0\n",
    "for a in dataframes_list:\n",
    "    print(a.shape)\n",
    "    size += a.shape[0]\n",
    "print(\"Total records \", size) "
   ]
  },
  {
   "cell_type": "code",
   "execution_count": 4,
   "metadata": {},
   "outputs": [
    {
     "name": "stdout",
     "output_type": "stream",
     "text": [
      "(40, 7)\n"
     ]
    },
    {
     "data": {
      "text/html": [
       "<div>\n",
       "<style scoped>\n",
       "    .dataframe tbody tr th:only-of-type {\n",
       "        vertical-align: middle;\n",
       "    }\n",
       "\n",
       "    .dataframe tbody tr th {\n",
       "        vertical-align: top;\n",
       "    }\n",
       "\n",
       "    .dataframe thead th {\n",
       "        text-align: right;\n",
       "    }\n",
       "</style>\n",
       "<table border=\"1\" class=\"dataframe\">\n",
       "  <thead>\n",
       "    <tr style=\"text-align: right;\">\n",
       "      <th></th>\n",
       "      <th>Temperature</th>\n",
       "      <th>Turbidity</th>\n",
       "      <th>Dissolved Oxygen</th>\n",
       "      <th>PH</th>\n",
       "      <th>Ammonia</th>\n",
       "      <th>Nitrate</th>\n",
       "      <th>Weight_diff</th>\n",
       "    </tr>\n",
       "  </thead>\n",
       "  <tbody>\n",
       "    <tr>\n",
       "      <th>0</th>\n",
       "      <td>26.003507</td>\n",
       "      <td>26.740419</td>\n",
       "      <td>16.630300</td>\n",
       "      <td>8.319060</td>\n",
       "      <td>0.399968</td>\n",
       "      <td>319.832082</td>\n",
       "      <td>0.000306</td>\n",
       "    </tr>\n",
       "    <tr>\n",
       "      <th>1</th>\n",
       "      <td>25.380114</td>\n",
       "      <td>32.659848</td>\n",
       "      <td>12.117469</td>\n",
       "      <td>8.391118</td>\n",
       "      <td>0.490232</td>\n",
       "      <td>310.625758</td>\n",
       "      <td>0.000588</td>\n",
       "    </tr>\n",
       "    <tr>\n",
       "      <th>2</th>\n",
       "      <td>25.380462</td>\n",
       "      <td>32.783537</td>\n",
       "      <td>13.701492</td>\n",
       "      <td>8.423628</td>\n",
       "      <td>0.479658</td>\n",
       "      <td>305.318089</td>\n",
       "      <td>0.000788</td>\n",
       "    </tr>\n",
       "    <tr>\n",
       "      <th>3</th>\n",
       "      <td>24.549640</td>\n",
       "      <td>20.249467</td>\n",
       "      <td>9.743043</td>\n",
       "      <td>8.452607</td>\n",
       "      <td>0.501437</td>\n",
       "      <td>303.095416</td>\n",
       "      <td>0.000413</td>\n",
       "    </tr>\n",
       "    <tr>\n",
       "      <th>4</th>\n",
       "      <td>24.373544</td>\n",
       "      <td>14.446965</td>\n",
       "      <td>10.590942</td>\n",
       "      <td>8.491006</td>\n",
       "      <td>0.484715</td>\n",
       "      <td>312.370938</td>\n",
       "      <td>0.000951</td>\n",
       "    </tr>\n",
       "  </tbody>\n",
       "</table>\n",
       "</div>"
      ],
      "text/plain": [
       "   Temperature  Turbidity  Dissolved Oxygen        PH   Ammonia     Nitrate  \\\n",
       "0    26.003507  26.740419         16.630300  8.319060  0.399968  319.832082   \n",
       "1    25.380114  32.659848         12.117469  8.391118  0.490232  310.625758   \n",
       "2    25.380462  32.783537         13.701492  8.423628  0.479658  305.318089   \n",
       "3    24.549640  20.249467          9.743043  8.452607  0.501437  303.095416   \n",
       "4    24.373544  14.446965         10.590942  8.491006  0.484715  312.370938   \n",
       "\n",
       "   Weight_diff  \n",
       "0     0.000306  \n",
       "1     0.000588  \n",
       "2     0.000788  \n",
       "3     0.000413  \n",
       "4     0.000951  "
      ]
     },
     "execution_count": 4,
     "metadata": {},
     "output_type": "execute_result"
    }
   ],
   "source": [
    "df1=dataframes_list[0]\n",
    "print(df1.shape)\n",
    "df1.head()"
   ]
  },
  {
   "cell_type": "code",
   "execution_count": 5,
   "metadata": {},
   "outputs": [
    {
     "name": "stdout",
     "output_type": "stream",
     "text": [
      "(66, 7)\n"
     ]
    },
    {
     "data": {
      "text/html": [
       "<div>\n",
       "<style scoped>\n",
       "    .dataframe tbody tr th:only-of-type {\n",
       "        vertical-align: middle;\n",
       "    }\n",
       "\n",
       "    .dataframe tbody tr th {\n",
       "        vertical-align: top;\n",
       "    }\n",
       "\n",
       "    .dataframe thead th {\n",
       "        text-align: right;\n",
       "    }\n",
       "</style>\n",
       "<table border=\"1\" class=\"dataframe\">\n",
       "  <thead>\n",
       "    <tr style=\"text-align: right;\">\n",
       "      <th></th>\n",
       "      <th>Temperature</th>\n",
       "      <th>Turbidity</th>\n",
       "      <th>Dissolved Oxygen</th>\n",
       "      <th>PH</th>\n",
       "      <th>Ammonia</th>\n",
       "      <th>Nitrate</th>\n",
       "      <th>Weight_diff</th>\n",
       "    </tr>\n",
       "  </thead>\n",
       "  <tbody>\n",
       "    <tr>\n",
       "      <th>0</th>\n",
       "      <td>24.830222</td>\n",
       "      <td>31.634531</td>\n",
       "      <td>15.153820</td>\n",
       "      <td>7.302893</td>\n",
       "      <td>5.478445</td>\n",
       "      <td>118.271897</td>\n",
       "      <td>0.000192</td>\n",
       "    </tr>\n",
       "    <tr>\n",
       "      <th>1</th>\n",
       "      <td>25.512454</td>\n",
       "      <td>21.279394</td>\n",
       "      <td>14.194486</td>\n",
       "      <td>7.289151</td>\n",
       "      <td>8.429881</td>\n",
       "      <td>110.806621</td>\n",
       "      <td>0.000189</td>\n",
       "    </tr>\n",
       "    <tr>\n",
       "      <th>2</th>\n",
       "      <td>24.866019</td>\n",
       "      <td>15.945698</td>\n",
       "      <td>7.531249</td>\n",
       "      <td>7.292192</td>\n",
       "      <td>9.810810</td>\n",
       "      <td>103.985798</td>\n",
       "      <td>0.000510</td>\n",
       "    </tr>\n",
       "    <tr>\n",
       "      <th>3</th>\n",
       "      <td>24.272077</td>\n",
       "      <td>41.140638</td>\n",
       "      <td>7.868545</td>\n",
       "      <td>7.303995</td>\n",
       "      <td>141.362497</td>\n",
       "      <td>97.265740</td>\n",
       "      <td>0.000499</td>\n",
       "    </tr>\n",
       "    <tr>\n",
       "      <th>4</th>\n",
       "      <td>23.847348</td>\n",
       "      <td>36.931904</td>\n",
       "      <td>4.839228</td>\n",
       "      <td>7.329167</td>\n",
       "      <td>30.978411</td>\n",
       "      <td>106.870203</td>\n",
       "      <td>0.000229</td>\n",
       "    </tr>\n",
       "  </tbody>\n",
       "</table>\n",
       "</div>"
      ],
      "text/plain": [
       "   Temperature  Turbidity  Dissolved Oxygen        PH     Ammonia     Nitrate  \\\n",
       "0    24.830222  31.634531         15.153820  7.302893    5.478445  118.271897   \n",
       "1    25.512454  21.279394         14.194486  7.289151    8.429881  110.806621   \n",
       "2    24.866019  15.945698          7.531249  7.292192    9.810810  103.985798   \n",
       "3    24.272077  41.140638          7.868545  7.303995  141.362497   97.265740   \n",
       "4    23.847348  36.931904          4.839228  7.329167   30.978411  106.870203   \n",
       "\n",
       "   Weight_diff  \n",
       "0     0.000192  \n",
       "1     0.000189  \n",
       "2     0.000510  \n",
       "3     0.000499  \n",
       "4     0.000229  "
      ]
     },
     "execution_count": 5,
     "metadata": {},
     "output_type": "execute_result"
    }
   ],
   "source": [
    "df1=dataframes_list[1]\n",
    "print(df1.shape)\n",
    "df1.head()"
   ]
  },
  {
   "cell_type": "code",
   "execution_count": 6,
   "metadata": {},
   "outputs": [
    {
     "name": "stdout",
     "output_type": "stream",
     "text": [
      "(66, 7)\n"
     ]
    },
    {
     "data": {
      "text/html": [
       "<div>\n",
       "<style scoped>\n",
       "    .dataframe tbody tr th:only-of-type {\n",
       "        vertical-align: middle;\n",
       "    }\n",
       "\n",
       "    .dataframe tbody tr th {\n",
       "        vertical-align: top;\n",
       "    }\n",
       "\n",
       "    .dataframe thead th {\n",
       "        text-align: right;\n",
       "    }\n",
       "</style>\n",
       "<table border=\"1\" class=\"dataframe\">\n",
       "  <thead>\n",
       "    <tr style=\"text-align: right;\">\n",
       "      <th></th>\n",
       "      <th>Temperature</th>\n",
       "      <th>Turbidity</th>\n",
       "      <th>Dissolved Oxygen</th>\n",
       "      <th>PH</th>\n",
       "      <th>Ammonia</th>\n",
       "      <th>Nitrate</th>\n",
       "      <th>Weight_diff</th>\n",
       "    </tr>\n",
       "  </thead>\n",
       "  <tbody>\n",
       "    <tr>\n",
       "      <th>0</th>\n",
       "      <td>24.830222</td>\n",
       "      <td>31.634531</td>\n",
       "      <td>15.153820</td>\n",
       "      <td>7.302893</td>\n",
       "      <td>5.478445</td>\n",
       "      <td>118.271897</td>\n",
       "      <td>0.000192</td>\n",
       "    </tr>\n",
       "    <tr>\n",
       "      <th>1</th>\n",
       "      <td>25.512454</td>\n",
       "      <td>21.279394</td>\n",
       "      <td>14.194486</td>\n",
       "      <td>7.289151</td>\n",
       "      <td>8.429881</td>\n",
       "      <td>110.806621</td>\n",
       "      <td>0.000189</td>\n",
       "    </tr>\n",
       "    <tr>\n",
       "      <th>2</th>\n",
       "      <td>24.866019</td>\n",
       "      <td>15.945698</td>\n",
       "      <td>7.531249</td>\n",
       "      <td>7.292192</td>\n",
       "      <td>9.810810</td>\n",
       "      <td>103.985798</td>\n",
       "      <td>0.000510</td>\n",
       "    </tr>\n",
       "    <tr>\n",
       "      <th>3</th>\n",
       "      <td>24.272077</td>\n",
       "      <td>41.140638</td>\n",
       "      <td>7.868545</td>\n",
       "      <td>7.303995</td>\n",
       "      <td>141.362497</td>\n",
       "      <td>97.265740</td>\n",
       "      <td>0.000499</td>\n",
       "    </tr>\n",
       "    <tr>\n",
       "      <th>4</th>\n",
       "      <td>23.847348</td>\n",
       "      <td>36.931904</td>\n",
       "      <td>4.839228</td>\n",
       "      <td>7.329167</td>\n",
       "      <td>30.978411</td>\n",
       "      <td>106.870203</td>\n",
       "      <td>0.000229</td>\n",
       "    </tr>\n",
       "  </tbody>\n",
       "</table>\n",
       "</div>"
      ],
      "text/plain": [
       "   Temperature  Turbidity  Dissolved Oxygen        PH     Ammonia     Nitrate  \\\n",
       "0    24.830222  31.634531         15.153820  7.302893    5.478445  118.271897   \n",
       "1    25.512454  21.279394         14.194486  7.289151    8.429881  110.806621   \n",
       "2    24.866019  15.945698          7.531249  7.292192    9.810810  103.985798   \n",
       "3    24.272077  41.140638          7.868545  7.303995  141.362497   97.265740   \n",
       "4    23.847348  36.931904          4.839228  7.329167   30.978411  106.870203   \n",
       "\n",
       "   Weight_diff  \n",
       "0     0.000192  \n",
       "1     0.000189  \n",
       "2     0.000510  \n",
       "3     0.000499  \n",
       "4     0.000229  "
      ]
     },
     "execution_count": 6,
     "metadata": {},
     "output_type": "execute_result"
    }
   ],
   "source": [
    "df1=dataframes_list[1]\n",
    "print(df1.shape)\n",
    "df1.head()"
   ]
  },
  {
   "cell_type": "code",
   "execution_count": 7,
   "metadata": {},
   "outputs": [
    {
     "data": {
      "text/plain": [
       "(577, 8)"
      ]
     },
     "execution_count": 7,
     "metadata": {},
     "output_type": "execute_result"
    }
   ],
   "source": [
    "#Combine DataFrames\n",
    "df_result = pd.concat(dataframes_list)\n",
    "df_result.reset_index(inplace=True)\n",
    "df_result.shape"
   ]
  },
  {
   "cell_type": "code",
   "execution_count": 8,
   "metadata": {},
   "outputs": [],
   "source": [
    "df_result.drop(['index'], axis=1, inplace=True)"
   ]
  },
  {
   "cell_type": "code",
   "execution_count": 9,
   "metadata": {},
   "outputs": [
    {
     "data": {
      "text/plain": [
       "(577, 7)"
      ]
     },
     "execution_count": 9,
     "metadata": {},
     "output_type": "execute_result"
    }
   ],
   "source": [
    "df_result.shape"
   ]
  },
  {
   "cell_type": "code",
   "execution_count": 10,
   "metadata": {},
   "outputs": [
    {
     "data": {
      "text/html": [
       "<div>\n",
       "<style scoped>\n",
       "    .dataframe tbody tr th:only-of-type {\n",
       "        vertical-align: middle;\n",
       "    }\n",
       "\n",
       "    .dataframe tbody tr th {\n",
       "        vertical-align: top;\n",
       "    }\n",
       "\n",
       "    .dataframe thead th {\n",
       "        text-align: right;\n",
       "    }\n",
       "</style>\n",
       "<table border=\"1\" class=\"dataframe\">\n",
       "  <thead>\n",
       "    <tr style=\"text-align: right;\">\n",
       "      <th></th>\n",
       "      <th>Temperature</th>\n",
       "      <th>Turbidity</th>\n",
       "      <th>Dissolved Oxygen</th>\n",
       "      <th>PH</th>\n",
       "      <th>Ammonia</th>\n",
       "      <th>Nitrate</th>\n",
       "      <th>Weight_diff</th>\n",
       "    </tr>\n",
       "  </thead>\n",
       "  <tbody>\n",
       "    <tr>\n",
       "      <th>0</th>\n",
       "      <td>26.003507</td>\n",
       "      <td>26.740419</td>\n",
       "      <td>16.630300</td>\n",
       "      <td>8.319060</td>\n",
       "      <td>0.399968</td>\n",
       "      <td>319.832082</td>\n",
       "      <td>0.000306</td>\n",
       "    </tr>\n",
       "    <tr>\n",
       "      <th>1</th>\n",
       "      <td>25.380114</td>\n",
       "      <td>32.659848</td>\n",
       "      <td>12.117469</td>\n",
       "      <td>8.391118</td>\n",
       "      <td>0.490232</td>\n",
       "      <td>310.625758</td>\n",
       "      <td>0.000588</td>\n",
       "    </tr>\n",
       "    <tr>\n",
       "      <th>2</th>\n",
       "      <td>25.380462</td>\n",
       "      <td>32.783537</td>\n",
       "      <td>13.701492</td>\n",
       "      <td>8.423628</td>\n",
       "      <td>0.479658</td>\n",
       "      <td>305.318089</td>\n",
       "      <td>0.000788</td>\n",
       "    </tr>\n",
       "    <tr>\n",
       "      <th>3</th>\n",
       "      <td>24.549640</td>\n",
       "      <td>20.249467</td>\n",
       "      <td>9.743043</td>\n",
       "      <td>8.452607</td>\n",
       "      <td>0.501437</td>\n",
       "      <td>303.095416</td>\n",
       "      <td>0.000413</td>\n",
       "    </tr>\n",
       "    <tr>\n",
       "      <th>4</th>\n",
       "      <td>24.373544</td>\n",
       "      <td>14.446965</td>\n",
       "      <td>10.590942</td>\n",
       "      <td>8.491006</td>\n",
       "      <td>0.484715</td>\n",
       "      <td>312.370938</td>\n",
       "      <td>0.000951</td>\n",
       "    </tr>\n",
       "  </tbody>\n",
       "</table>\n",
       "</div>"
      ],
      "text/plain": [
       "   Temperature  Turbidity  Dissolved Oxygen        PH   Ammonia     Nitrate  \\\n",
       "0    26.003507  26.740419         16.630300  8.319060  0.399968  319.832082   \n",
       "1    25.380114  32.659848         12.117469  8.391118  0.490232  310.625758   \n",
       "2    25.380462  32.783537         13.701492  8.423628  0.479658  305.318089   \n",
       "3    24.549640  20.249467          9.743043  8.452607  0.501437  303.095416   \n",
       "4    24.373544  14.446965         10.590942  8.491006  0.484715  312.370938   \n",
       "\n",
       "   Weight_diff  \n",
       "0     0.000306  \n",
       "1     0.000588  \n",
       "2     0.000788  \n",
       "3     0.000413  \n",
       "4     0.000951  "
      ]
     },
     "execution_count": 10,
     "metadata": {},
     "output_type": "execute_result"
    }
   ],
   "source": [
    "df_result.head()"
   ]
  },
  {
   "cell_type": "code",
   "execution_count": 11,
   "metadata": {},
   "outputs": [],
   "source": [
    "df_result.to_csv('Total_Average_features1.csv')"
   ]
  },
  {
   "cell_type": "code",
   "execution_count": null,
   "metadata": {},
   "outputs": [],
   "source": []
  }
 ],
 "metadata": {
  "kernelspec": {
   "display_name": "Python 3",
   "language": "python",
   "name": "python3"
  },
  "language_info": {
   "codemirror_mode": {
    "name": "ipython",
    "version": 3
   },
   "file_extension": ".py",
   "mimetype": "text/x-python",
   "name": "python",
   "nbconvert_exporter": "python",
   "pygments_lexer": "ipython3",
   "version": "3.8.3"
  }
 },
 "nbformat": 4,
 "nbformat_minor": 4
}
