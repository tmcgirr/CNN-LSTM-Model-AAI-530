{
 "cells": [
  {
   "cell_type": "code",
   "execution_count": 1,
   "metadata": {},
   "outputs": [
    {
     "name": "stderr",
     "output_type": "stream",
     "text": [
      "/home/rupamay/anaconda3/lib/python3.8/site-packages/pandas/core/computation/expressions.py:20: UserWarning: Pandas requires version '2.7.3' or newer of 'numexpr' (version '2.7.1' currently installed).\n",
      "  from pandas.core.computation.check import NUMEXPR_INSTALLED\n"
     ]
    }
   ],
   "source": [
    "import pandas as pd\n",
    "import numpy as np\n",
    "import matplotlib.pyplot as plt"
   ]
  },
  {
   "cell_type": "code",
   "execution_count": 2,
   "metadata": {},
   "outputs": [],
   "source": [
    "df_raw1= pd.read_csv(\"IoTPond11.csv\", delimiter = \",\",low_memory=False)"
   ]
  },
  {
   "cell_type": "code",
   "execution_count": 3,
   "metadata": {},
   "outputs": [
    {
     "data": {
      "text/html": [
       "<div>\n",
       "<style scoped>\n",
       "    .dataframe tbody tr th:only-of-type {\n",
       "        vertical-align: middle;\n",
       "    }\n",
       "\n",
       "    .dataframe tbody tr th {\n",
       "        vertical-align: top;\n",
       "    }\n",
       "\n",
       "    .dataframe thead th {\n",
       "        text-align: right;\n",
       "    }\n",
       "</style>\n",
       "<table border=\"1\" class=\"dataframe\">\n",
       "  <thead>\n",
       "    <tr style=\"text-align: right;\">\n",
       "      <th></th>\n",
       "      <th>created_at</th>\n",
       "      <th>entry_id</th>\n",
       "      <th>TEMPERATURE</th>\n",
       "      <th>TURBIDITY</th>\n",
       "      <th>DISOLVED OXYGEN</th>\n",
       "      <th>pH</th>\n",
       "      <th>AMMONIA</th>\n",
       "      <th>NITRATE</th>\n",
       "      <th>Population</th>\n",
       "      <th>Lenght</th>\n",
       "      <th>Weight</th>\n",
       "    </tr>\n",
       "  </thead>\n",
       "  <tbody>\n",
       "    <tr>\n",
       "      <th>0</th>\n",
       "      <td>2021-06-25 15:14:07 CET</td>\n",
       "      <td>1</td>\n",
       "      <td>27.0625</td>\n",
       "      <td>100</td>\n",
       "      <td>22.562</td>\n",
       "      <td>8.20213</td>\n",
       "      <td>12151.86328</td>\n",
       "      <td>1061</td>\n",
       "      <td>50</td>\n",
       "      <td>14.12</td>\n",
       "      <td>33.8</td>\n",
       "    </tr>\n",
       "    <tr>\n",
       "      <th>1</th>\n",
       "      <td>2021-06-25 15:14:26 CET</td>\n",
       "      <td>2</td>\n",
       "      <td>27.1250</td>\n",
       "      <td>100</td>\n",
       "      <td>20.493</td>\n",
       "      <td>8.19759</td>\n",
       "      <td>15100.59473</td>\n",
       "      <td>1050</td>\n",
       "      <td>50</td>\n",
       "      <td>14.12</td>\n",
       "      <td>33.8</td>\n",
       "    </tr>\n",
       "    <tr>\n",
       "      <th>2</th>\n",
       "      <td>2021-06-25 15:15:42 CET</td>\n",
       "      <td>3</td>\n",
       "      <td>27.1250</td>\n",
       "      <td>100</td>\n",
       "      <td>12.555</td>\n",
       "      <td>8.20213</td>\n",
       "      <td>42010.77344</td>\n",
       "      <td>1039</td>\n",
       "      <td>50</td>\n",
       "      <td>14.12</td>\n",
       "      <td>33.8</td>\n",
       "    </tr>\n",
       "    <tr>\n",
       "      <th>3</th>\n",
       "      <td>2021-06-25 15:16:01 CET</td>\n",
       "      <td>4</td>\n",
       "      <td>27.0625</td>\n",
       "      <td>100</td>\n",
       "      <td>17.403</td>\n",
       "      <td>8.19759</td>\n",
       "      <td>21075.64453</td>\n",
       "      <td>1037</td>\n",
       "      <td>50</td>\n",
       "      <td>14.12</td>\n",
       "      <td>33.8</td>\n",
       "    </tr>\n",
       "    <tr>\n",
       "      <th>4</th>\n",
       "      <td>2021-06-25 15:16:21 CET</td>\n",
       "      <td>5</td>\n",
       "      <td>27.1250</td>\n",
       "      <td>100</td>\n",
       "      <td>22.765</td>\n",
       "      <td>8.21121</td>\n",
       "      <td>62079.92578</td>\n",
       "      <td>1039</td>\n",
       "      <td>50</td>\n",
       "      <td>14.12</td>\n",
       "      <td>33.8</td>\n",
       "    </tr>\n",
       "  </tbody>\n",
       "</table>\n",
       "</div>"
      ],
      "text/plain": [
       "                created_at  entry_id  TEMPERATURE  TURBIDITY  DISOLVED OXYGEN  \\\n",
       "0  2021-06-25 15:14:07 CET         1      27.0625        100           22.562   \n",
       "1  2021-06-25 15:14:26 CET         2      27.1250        100           20.493   \n",
       "2  2021-06-25 15:15:42 CET         3      27.1250        100           12.555   \n",
       "3  2021-06-25 15:16:01 CET         4      27.0625        100           17.403   \n",
       "4  2021-06-25 15:16:21 CET         5      27.1250        100           22.765   \n",
       "\n",
       "        pH      AMMONIA  NITRATE  Population  Lenght  Weight  \n",
       "0  8.20213  12151.86328     1061          50   14.12    33.8  \n",
       "1  8.19759  15100.59473     1050          50   14.12    33.8  \n",
       "2  8.20213  42010.77344     1039          50   14.12    33.8  \n",
       "3  8.19759  21075.64453     1037          50   14.12    33.8  \n",
       "4  8.21121  62079.92578     1039          50   14.12    33.8  "
      ]
     },
     "execution_count": 3,
     "metadata": {},
     "output_type": "execute_result"
    }
   ],
   "source": [
    "df_raw1.head(5)"
   ]
  },
  {
   "cell_type": "code",
   "execution_count": 4,
   "metadata": {},
   "outputs": [],
   "source": [
    "df_raw1.drop(\"entry_id\",axis=1,inplace=True)"
   ]
  },
  {
   "cell_type": "code",
   "execution_count": 5,
   "metadata": {},
   "outputs": [],
   "source": [
    "df_raw1.columns=['created_at', 'Temperature', 'Turbidity',\n",
    "       'Dissolved Oxygen', 'PH', 'Ammonia', 'Nitrate', 'Population',\n",
    "        'Fish_Length', 'Fish_Weight']"
   ]
  },
  {
   "cell_type": "code",
   "execution_count": 6,
   "metadata": {},
   "outputs": [
    {
     "data": {
      "text/html": [
       "<div>\n",
       "<style scoped>\n",
       "    .dataframe tbody tr th:only-of-type {\n",
       "        vertical-align: middle;\n",
       "    }\n",
       "\n",
       "    .dataframe tbody tr th {\n",
       "        vertical-align: top;\n",
       "    }\n",
       "\n",
       "    .dataframe thead th {\n",
       "        text-align: right;\n",
       "    }\n",
       "</style>\n",
       "<table border=\"1\" class=\"dataframe\">\n",
       "  <thead>\n",
       "    <tr style=\"text-align: right;\">\n",
       "      <th></th>\n",
       "      <th>created_at</th>\n",
       "      <th>Temperature</th>\n",
       "      <th>Turbidity</th>\n",
       "      <th>Dissolved Oxygen</th>\n",
       "      <th>PH</th>\n",
       "      <th>Ammonia</th>\n",
       "      <th>Nitrate</th>\n",
       "      <th>Population</th>\n",
       "      <th>Fish_Length</th>\n",
       "      <th>Fish_Weight</th>\n",
       "    </tr>\n",
       "  </thead>\n",
       "  <tbody>\n",
       "    <tr>\n",
       "      <th>0</th>\n",
       "      <td>2021-06-25 15:14:07 CET</td>\n",
       "      <td>27.0625</td>\n",
       "      <td>100</td>\n",
       "      <td>22.562</td>\n",
       "      <td>8.20213</td>\n",
       "      <td>12151.86328</td>\n",
       "      <td>1061</td>\n",
       "      <td>50</td>\n",
       "      <td>14.12</td>\n",
       "      <td>33.8</td>\n",
       "    </tr>\n",
       "    <tr>\n",
       "      <th>1</th>\n",
       "      <td>2021-06-25 15:14:26 CET</td>\n",
       "      <td>27.1250</td>\n",
       "      <td>100</td>\n",
       "      <td>20.493</td>\n",
       "      <td>8.19759</td>\n",
       "      <td>15100.59473</td>\n",
       "      <td>1050</td>\n",
       "      <td>50</td>\n",
       "      <td>14.12</td>\n",
       "      <td>33.8</td>\n",
       "    </tr>\n",
       "    <tr>\n",
       "      <th>2</th>\n",
       "      <td>2021-06-25 15:15:42 CET</td>\n",
       "      <td>27.1250</td>\n",
       "      <td>100</td>\n",
       "      <td>12.555</td>\n",
       "      <td>8.20213</td>\n",
       "      <td>42010.77344</td>\n",
       "      <td>1039</td>\n",
       "      <td>50</td>\n",
       "      <td>14.12</td>\n",
       "      <td>33.8</td>\n",
       "    </tr>\n",
       "    <tr>\n",
       "      <th>3</th>\n",
       "      <td>2021-06-25 15:16:01 CET</td>\n",
       "      <td>27.0625</td>\n",
       "      <td>100</td>\n",
       "      <td>17.403</td>\n",
       "      <td>8.19759</td>\n",
       "      <td>21075.64453</td>\n",
       "      <td>1037</td>\n",
       "      <td>50</td>\n",
       "      <td>14.12</td>\n",
       "      <td>33.8</td>\n",
       "    </tr>\n",
       "    <tr>\n",
       "      <th>4</th>\n",
       "      <td>2021-06-25 15:16:21 CET</td>\n",
       "      <td>27.1250</td>\n",
       "      <td>100</td>\n",
       "      <td>22.765</td>\n",
       "      <td>8.21121</td>\n",
       "      <td>62079.92578</td>\n",
       "      <td>1039</td>\n",
       "      <td>50</td>\n",
       "      <td>14.12</td>\n",
       "      <td>33.8</td>\n",
       "    </tr>\n",
       "  </tbody>\n",
       "</table>\n",
       "</div>"
      ],
      "text/plain": [
       "                created_at  Temperature  Turbidity  Dissolved Oxygen       PH  \\\n",
       "0  2021-06-25 15:14:07 CET      27.0625        100            22.562  8.20213   \n",
       "1  2021-06-25 15:14:26 CET      27.1250        100            20.493  8.19759   \n",
       "2  2021-06-25 15:15:42 CET      27.1250        100            12.555  8.20213   \n",
       "3  2021-06-25 15:16:01 CET      27.0625        100            17.403  8.19759   \n",
       "4  2021-06-25 15:16:21 CET      27.1250        100            22.765  8.21121   \n",
       "\n",
       "       Ammonia  Nitrate  Population  Fish_Length  Fish_Weight  \n",
       "0  12151.86328     1061          50        14.12         33.8  \n",
       "1  15100.59473     1050          50        14.12         33.8  \n",
       "2  42010.77344     1039          50        14.12         33.8  \n",
       "3  21075.64453     1037          50        14.12         33.8  \n",
       "4  62079.92578     1039          50        14.12         33.8  "
      ]
     },
     "execution_count": 6,
     "metadata": {},
     "output_type": "execute_result"
    }
   ],
   "source": [
    "df_raw1.head(5)"
   ]
  },
  {
   "cell_type": "code",
   "execution_count": 7,
   "metadata": {},
   "outputs": [
    {
     "data": {
      "text/plain": [
       "created_at           object\n",
       "Temperature         float64\n",
       "Turbidity             int64\n",
       "Dissolved Oxygen    float64\n",
       "PH                  float64\n",
       "Ammonia             float64\n",
       "Nitrate               int64\n",
       "Population            int64\n",
       "Fish_Length         float64\n",
       "Fish_Weight         float64\n",
       "dtype: object"
      ]
     },
     "execution_count": 7,
     "metadata": {},
     "output_type": "execute_result"
    }
   ],
   "source": [
    "df_raw1.dtypes"
   ]
  },
  {
   "cell_type": "markdown",
   "metadata": {},
   "source": [
    "From 10/10/21 to 3/2/2022 , there is 1 record per day with all sensor readings but the weight readings are 281.2. \n",
    "Dropping them. Also , the rest of the records too do not have any sequence in them to map weight differences, dropping them."
   ]
  },
  {
   "cell_type": "code",
   "execution_count": 11,
   "metadata": {},
   "outputs": [
    {
     "data": {
      "text/plain": [
       "created_at          3/2/2022\n",
       "Temperature          27.1875\n",
       "Turbidity                100\n",
       "Dissolved Oxygen         0.0\n",
       "PH                    8.1295\n",
       "Ammonia                  0.0\n",
       "Nitrate                 1066\n",
       "Population                50\n",
       "Fish_Length            32.46\n",
       "Fish_Weight            281.2\n",
       "Name: 743, dtype: object"
      ]
     },
     "execution_count": 11,
     "metadata": {},
     "output_type": "execute_result"
    }
   ],
   "source": [
    "df_raw1.iloc[743]"
   ]
  },
  {
   "cell_type": "code",
   "execution_count": 12,
   "metadata": {},
   "outputs": [
    {
     "data": {
      "text/plain": [
       "created_at           10/10/2021\n",
       "Temperature             27.0625\n",
       "Turbidity                   100\n",
       "Dissolved Oxygen         22.562\n",
       "PH                      8.20213\n",
       "Ammonia             12151.86328\n",
       "Nitrate                    1061\n",
       "Population                   50\n",
       "Fish_Length               32.46\n",
       "Fish_Weight               281.2\n",
       "Name: 627, dtype: object"
      ]
     },
     "execution_count": 12,
     "metadata": {},
     "output_type": "execute_result"
    }
   ],
   "source": [
    "df_raw1.iloc[627]"
   ]
  },
  {
   "cell_type": "code",
   "execution_count": 15,
   "metadata": {},
   "outputs": [],
   "source": [
    "index_list = list(range(627, 3165))\n",
    "df_raw1.drop(df_raw1.index[index_list], inplace =True)"
   ]
  },
  {
   "cell_type": "code",
   "execution_count": 16,
   "metadata": {},
   "outputs": [
    {
     "data": {
      "text/html": [
       "<div>\n",
       "<style scoped>\n",
       "    .dataframe tbody tr th:only-of-type {\n",
       "        vertical-align: middle;\n",
       "    }\n",
       "\n",
       "    .dataframe tbody tr th {\n",
       "        vertical-align: top;\n",
       "    }\n",
       "\n",
       "    .dataframe thead th {\n",
       "        text-align: right;\n",
       "    }\n",
       "</style>\n",
       "<table border=\"1\" class=\"dataframe\">\n",
       "  <thead>\n",
       "    <tr style=\"text-align: right;\">\n",
       "      <th></th>\n",
       "      <th>created_at</th>\n",
       "      <th>Temperature</th>\n",
       "      <th>Turbidity</th>\n",
       "      <th>Dissolved Oxygen</th>\n",
       "      <th>PH</th>\n",
       "      <th>Ammonia</th>\n",
       "      <th>Nitrate</th>\n",
       "      <th>Population</th>\n",
       "      <th>Fish_Length</th>\n",
       "      <th>Fish_Weight</th>\n",
       "    </tr>\n",
       "  </thead>\n",
       "  <tbody>\n",
       "    <tr>\n",
       "      <th>622</th>\n",
       "      <td>2021-07-08 17:06:20 CET</td>\n",
       "      <td>26.75</td>\n",
       "      <td>100</td>\n",
       "      <td>5.315</td>\n",
       "      <td>7.19891</td>\n",
       "      <td>2875.26587</td>\n",
       "      <td>628</td>\n",
       "      <td>50</td>\n",
       "      <td>15.684286</td>\n",
       "      <td>40.928571</td>\n",
       "    </tr>\n",
       "    <tr>\n",
       "      <th>623</th>\n",
       "      <td>2021-07-08 17:07:08 CET</td>\n",
       "      <td>26.75</td>\n",
       "      <td>100</td>\n",
       "      <td>6.526</td>\n",
       "      <td>7.30786</td>\n",
       "      <td>493.19696</td>\n",
       "      <td>589</td>\n",
       "      <td>50</td>\n",
       "      <td>15.684286</td>\n",
       "      <td>40.928571</td>\n",
       "    </tr>\n",
       "    <tr>\n",
       "      <th>624</th>\n",
       "      <td>2021-07-08 17:07:28 CET</td>\n",
       "      <td>26.75</td>\n",
       "      <td>100</td>\n",
       "      <td>8.818</td>\n",
       "      <td>7.22161</td>\n",
       "      <td>365.02359</td>\n",
       "      <td>625</td>\n",
       "      <td>50</td>\n",
       "      <td>15.684286</td>\n",
       "      <td>40.928571</td>\n",
       "    </tr>\n",
       "    <tr>\n",
       "      <th>625</th>\n",
       "      <td>2021-07-08 17:07:48 CET</td>\n",
       "      <td>26.75</td>\n",
       "      <td>100</td>\n",
       "      <td>10.059</td>\n",
       "      <td>7.19891</td>\n",
       "      <td>184.68935</td>\n",
       "      <td>644</td>\n",
       "      <td>50</td>\n",
       "      <td>15.684286</td>\n",
       "      <td>40.928571</td>\n",
       "    </tr>\n",
       "    <tr>\n",
       "      <th>626</th>\n",
       "      <td>2021-07-08 17:09:22 CET</td>\n",
       "      <td>26.75</td>\n",
       "      <td>100</td>\n",
       "      <td>8.315</td>\n",
       "      <td>7.25338</td>\n",
       "      <td>92.80393</td>\n",
       "      <td>626</td>\n",
       "      <td>50</td>\n",
       "      <td>15.684286</td>\n",
       "      <td>40.928571</td>\n",
       "    </tr>\n",
       "  </tbody>\n",
       "</table>\n",
       "</div>"
      ],
      "text/plain": [
       "                  created_at  Temperature  Turbidity  Dissolved Oxygen  \\\n",
       "622  2021-07-08 17:06:20 CET        26.75        100             5.315   \n",
       "623  2021-07-08 17:07:08 CET        26.75        100             6.526   \n",
       "624  2021-07-08 17:07:28 CET        26.75        100             8.818   \n",
       "625  2021-07-08 17:07:48 CET        26.75        100            10.059   \n",
       "626  2021-07-08 17:09:22 CET        26.75        100             8.315   \n",
       "\n",
       "          PH     Ammonia  Nitrate  Population  Fish_Length  Fish_Weight  \n",
       "622  7.19891  2875.26587      628          50    15.684286    40.928571  \n",
       "623  7.30786   493.19696      589          50    15.684286    40.928571  \n",
       "624  7.22161   365.02359      625          50    15.684286    40.928571  \n",
       "625  7.19891   184.68935      644          50    15.684286    40.928571  \n",
       "626  7.25338    92.80393      626          50    15.684286    40.928571  "
      ]
     },
     "execution_count": 16,
     "metadata": {},
     "output_type": "execute_result"
    }
   ],
   "source": [
    "df_raw1.tail(5)"
   ]
  },
  {
   "cell_type": "code",
   "execution_count": 17,
   "metadata": {},
   "outputs": [
    {
     "data": {
      "text/plain": [
       "<AxesSubplot:>"
      ]
     },
     "execution_count": 17,
     "metadata": {},
     "output_type": "execute_result"
    },
    {
     "data": {
      "image/png": "[encoded data removed]",
      "text/plain": [
       "<Figure size 432x288 with 1 Axes>"
      ]
     },
     "metadata": {
      "needs_background": "light"
     },
     "output_type": "display_data"
    }
   ],
   "source": [
    "df_raw1.isna().sum().plot.bar()"
   ]
  },
  {
   "cell_type": "markdown",
   "metadata": {},
   "source": [
    "No missing record."
   ]
  },
  {
   "cell_type": "code",
   "execution_count": 18,
   "metadata": {},
   "outputs": [
    {
     "name": "stderr",
     "output_type": "stream",
     "text": [
      "/home/rupamay/anaconda3/lib/python3.8/site-packages/dateutil/parser/_parser.py:1213: UnknownTimezoneWarning: tzname CET identified but not understood.  Pass `tzinfos` argument in order to correctly return a timezone-aware datetime.  In a future version, this will raise an exception.\n",
      "  warnings.warn(\"tzname {tzname} identified but not understood.  \"\n"
     ]
    }
   ],
   "source": [
    "df_raw1['Datetime'] = pd.to_datetime(df_raw1.created_at,infer_datetime_format=True)"
   ]
  },
  {
   "cell_type": "code",
   "execution_count": 19,
   "metadata": {},
   "outputs": [],
   "source": [
    "df_raw1.drop(columns='created_at', axis=1,inplace=True)"
   ]
  },
  {
   "cell_type": "code",
   "execution_count": 20,
   "metadata": {},
   "outputs": [],
   "source": [
    "df_raw1['Date'] = df_raw1['Datetime'].dt.date\n",
    "df_raw1['Time'] = df_raw1['Datetime'].dt.time"
   ]
  },
  {
   "cell_type": "code",
   "execution_count": 21,
   "metadata": {},
   "outputs": [
    {
     "data": {
      "text/html": [
       "<div>\n",
       "<style scoped>\n",
       "    .dataframe tbody tr th:only-of-type {\n",
       "        vertical-align: middle;\n",
       "    }\n",
       "\n",
       "    .dataframe tbody tr th {\n",
       "        vertical-align: top;\n",
       "    }\n",
       "\n",
       "    .dataframe thead th {\n",
       "        text-align: right;\n",
       "    }\n",
       "</style>\n",
       "<table border=\"1\" class=\"dataframe\">\n",
       "  <thead>\n",
       "    <tr style=\"text-align: right;\">\n",
       "      <th></th>\n",
       "      <th>Temperature</th>\n",
       "      <th>Turbidity</th>\n",
       "      <th>Dissolved Oxygen</th>\n",
       "      <th>PH</th>\n",
       "      <th>Ammonia</th>\n",
       "      <th>Nitrate</th>\n",
       "      <th>Population</th>\n",
       "      <th>Fish_Length</th>\n",
       "      <th>Fish_Weight</th>\n",
       "      <th>Datetime</th>\n",
       "      <th>Date</th>\n",
       "      <th>Time</th>\n",
       "    </tr>\n",
       "  </thead>\n",
       "  <tbody>\n",
       "    <tr>\n",
       "      <th>0</th>\n",
       "      <td>27.0625</td>\n",
       "      <td>100</td>\n",
       "      <td>22.562</td>\n",
       "      <td>8.20213</td>\n",
       "      <td>12151.86328</td>\n",
       "      <td>1061</td>\n",
       "      <td>50</td>\n",
       "      <td>14.12</td>\n",
       "      <td>33.8</td>\n",
       "      <td>2021-06-25 15:14:07</td>\n",
       "      <td>2021-06-25</td>\n",
       "      <td>15:14:07</td>\n",
       "    </tr>\n",
       "    <tr>\n",
       "      <th>1</th>\n",
       "      <td>27.1250</td>\n",
       "      <td>100</td>\n",
       "      <td>20.493</td>\n",
       "      <td>8.19759</td>\n",
       "      <td>15100.59473</td>\n",
       "      <td>1050</td>\n",
       "      <td>50</td>\n",
       "      <td>14.12</td>\n",
       "      <td>33.8</td>\n",
       "      <td>2021-06-25 15:14:26</td>\n",
       "      <td>2021-06-25</td>\n",
       "      <td>15:14:26</td>\n",
       "    </tr>\n",
       "    <tr>\n",
       "      <th>2</th>\n",
       "      <td>27.1250</td>\n",
       "      <td>100</td>\n",
       "      <td>12.555</td>\n",
       "      <td>8.20213</td>\n",
       "      <td>42010.77344</td>\n",
       "      <td>1039</td>\n",
       "      <td>50</td>\n",
       "      <td>14.12</td>\n",
       "      <td>33.8</td>\n",
       "      <td>2021-06-25 15:15:42</td>\n",
       "      <td>2021-06-25</td>\n",
       "      <td>15:15:42</td>\n",
       "    </tr>\n",
       "    <tr>\n",
       "      <th>3</th>\n",
       "      <td>27.0625</td>\n",
       "      <td>100</td>\n",
       "      <td>17.403</td>\n",
       "      <td>8.19759</td>\n",
       "      <td>21075.64453</td>\n",
       "      <td>1037</td>\n",
       "      <td>50</td>\n",
       "      <td>14.12</td>\n",
       "      <td>33.8</td>\n",
       "      <td>2021-06-25 15:16:01</td>\n",
       "      <td>2021-06-25</td>\n",
       "      <td>15:16:01</td>\n",
       "    </tr>\n",
       "    <tr>\n",
       "      <th>4</th>\n",
       "      <td>27.1250</td>\n",
       "      <td>100</td>\n",
       "      <td>22.765</td>\n",
       "      <td>8.21121</td>\n",
       "      <td>62079.92578</td>\n",
       "      <td>1039</td>\n",
       "      <td>50</td>\n",
       "      <td>14.12</td>\n",
       "      <td>33.8</td>\n",
       "      <td>2021-06-25 15:16:21</td>\n",
       "      <td>2021-06-25</td>\n",
       "      <td>15:16:21</td>\n",
       "    </tr>\n",
       "  </tbody>\n",
       "</table>\n",
       "</div>"
      ],
      "text/plain": [
       "   Temperature  Turbidity  Dissolved Oxygen       PH      Ammonia  Nitrate  \\\n",
       "0      27.0625        100            22.562  8.20213  12151.86328     1061   \n",
       "1      27.1250        100            20.493  8.19759  15100.59473     1050   \n",
       "2      27.1250        100            12.555  8.20213  42010.77344     1039   \n",
       "3      27.0625        100            17.403  8.19759  21075.64453     1037   \n",
       "4      27.1250        100            22.765  8.21121  62079.92578     1039   \n",
       "\n",
       "   Population  Fish_Length  Fish_Weight            Datetime        Date  \\\n",
       "0          50        14.12         33.8 2021-06-25 15:14:07  2021-06-25   \n",
       "1          50        14.12         33.8 2021-06-25 15:14:26  2021-06-25   \n",
       "2          50        14.12         33.8 2021-06-25 15:15:42  2021-06-25   \n",
       "3          50        14.12         33.8 2021-06-25 15:16:01  2021-06-25   \n",
       "4          50        14.12         33.8 2021-06-25 15:16:21  2021-06-25   \n",
       "\n",
       "       Time  \n",
       "0  15:14:07  \n",
       "1  15:14:26  \n",
       "2  15:15:42  \n",
       "3  15:16:01  \n",
       "4  15:16:21  "
      ]
     },
     "execution_count": 21,
     "metadata": {},
     "output_type": "execute_result"
    }
   ],
   "source": [
    "df_raw1.head(5)"
   ]
  },
  {
   "cell_type": "markdown",
   "metadata": {},
   "source": [
    "Sort DataFrame by Date (Datetime)"
   ]
  },
  {
   "cell_type": "code",
   "execution_count": 22,
   "metadata": {},
   "outputs": [],
   "source": [
    "df=df_raw1.sort_values(by='Datetime') "
   ]
  },
  {
   "cell_type": "code",
   "execution_count": null,
   "metadata": {},
   "outputs": [],
   "source": [
    "# df_raw1 = df_raw1.dropna()\n",
    "#clean up missing data here\n",
    "# df.ffill(axis=0,inplace=True)"
   ]
  },
  {
   "cell_type": "code",
   "execution_count": 23,
   "metadata": {},
   "outputs": [
    {
     "data": {
      "text/html": [
       "<div>\n",
       "<style scoped>\n",
       "    .dataframe tbody tr th:only-of-type {\n",
       "        vertical-align: middle;\n",
       "    }\n",
       "\n",
       "    .dataframe tbody tr th {\n",
       "        vertical-align: top;\n",
       "    }\n",
       "\n",
       "    .dataframe thead th {\n",
       "        text-align: right;\n",
       "    }\n",
       "</style>\n",
       "<table border=\"1\" class=\"dataframe\">\n",
       "  <thead>\n",
       "    <tr style=\"text-align: right;\">\n",
       "      <th></th>\n",
       "      <th>Temperature</th>\n",
       "      <th>Turbidity</th>\n",
       "      <th>Dissolved Oxygen</th>\n",
       "      <th>PH</th>\n",
       "      <th>Ammonia</th>\n",
       "      <th>Nitrate</th>\n",
       "      <th>Population</th>\n",
       "      <th>Fish_Length</th>\n",
       "      <th>Fish_Weight</th>\n",
       "      <th>Datetime</th>\n",
       "    </tr>\n",
       "  </thead>\n",
       "  <tbody>\n",
       "    <tr>\n",
       "      <th>count</th>\n",
       "      <td>627.0000</td>\n",
       "      <td>627.0000</td>\n",
       "      <td>627.0000</td>\n",
       "      <td>627.0000</td>\n",
       "      <td>627.0000</td>\n",
       "      <td>627.0000</td>\n",
       "      <td>627.0000</td>\n",
       "      <td>627.0000</td>\n",
       "      <td>627.0000</td>\n",
       "      <td>627</td>\n",
       "    </tr>\n",
       "    <tr>\n",
       "      <th>mean</th>\n",
       "      <td>25.6541</td>\n",
       "      <td>100.0000</td>\n",
       "      <td>3.3362</td>\n",
       "      <td>7.2901</td>\n",
       "      <td>1203286459.6109</td>\n",
       "      <td>706.7193</td>\n",
       "      <td>50.0000</td>\n",
       "      <td>15.4438</td>\n",
       "      <td>39.7517</td>\n",
       "      <td>2021-07-07 09:50:00.905901056</td>\n",
       "    </tr>\n",
       "    <tr>\n",
       "      <th>min</th>\n",
       "      <td>24.3750</td>\n",
       "      <td>100.0000</td>\n",
       "      <td>0.0000</td>\n",
       "      <td>7.1898</td>\n",
       "      <td>0.1734</td>\n",
       "      <td>480.0000</td>\n",
       "      <td>50.0000</td>\n",
       "      <td>14.1200</td>\n",
       "      <td>33.8000</td>\n",
       "      <td>2021-06-25 15:14:07</td>\n",
       "    </tr>\n",
       "    <tr>\n",
       "      <th>25%</th>\n",
       "      <td>25.1875</td>\n",
       "      <td>100.0000</td>\n",
       "      <td>0.0000</td>\n",
       "      <td>7.2352</td>\n",
       "      <td>277.9381</td>\n",
       "      <td>629.0000</td>\n",
       "      <td>50.0000</td>\n",
       "      <td>15.3714</td>\n",
       "      <td>39.3429</td>\n",
       "      <td>2021-07-07 19:32:12</td>\n",
       "    </tr>\n",
       "    <tr>\n",
       "      <th>50%</th>\n",
       "      <td>25.5000</td>\n",
       "      <td>100.0000</td>\n",
       "      <td>0.0000</td>\n",
       "      <td>7.2398</td>\n",
       "      <td>7125.1328</td>\n",
       "      <td>656.0000</td>\n",
       "      <td>50.0000</td>\n",
       "      <td>15.3714</td>\n",
       "      <td>39.3429</td>\n",
       "      <td>2021-07-07 23:38:48</td>\n",
       "    </tr>\n",
       "    <tr>\n",
       "      <th>75%</th>\n",
       "      <td>26.1875</td>\n",
       "      <td>100.0000</td>\n",
       "      <td>4.6270</td>\n",
       "      <td>7.2443</td>\n",
       "      <td>173163.5782</td>\n",
       "      <td>708.5000</td>\n",
       "      <td>50.0000</td>\n",
       "      <td>15.6843</td>\n",
       "      <td>40.9286</td>\n",
       "      <td>2021-07-08 08:10:41.500000</td>\n",
       "    </tr>\n",
       "    <tr>\n",
       "      <th>max</th>\n",
       "      <td>27.2500</td>\n",
       "      <td>100.0000</td>\n",
       "      <td>33.4750</td>\n",
       "      <td>8.2203</td>\n",
       "      <td>427000000000.0000</td>\n",
       "      <td>2165.0000</td>\n",
       "      <td>50.0000</td>\n",
       "      <td>15.6843</td>\n",
       "      <td>40.9286</td>\n",
       "      <td>2021-07-08 17:09:22</td>\n",
       "    </tr>\n",
       "    <tr>\n",
       "      <th>std</th>\n",
       "      <td>0.7186</td>\n",
       "      <td>0.0000</td>\n",
       "      <td>5.9733</td>\n",
       "      <td>0.2109</td>\n",
       "      <td>18178161911.6460</td>\n",
       "      <td>167.4747</td>\n",
       "      <td>0.0000</td>\n",
       "      <td>0.3473</td>\n",
       "      <td>1.6015</td>\n",
       "      <td>NaN</td>\n",
       "    </tr>\n",
       "  </tbody>\n",
       "</table>\n",
       "</div>"
      ],
      "text/plain": [
       "      Temperature Turbidity Dissolved Oxygen        PH            Ammonia  \\\n",
       "count    627.0000  627.0000         627.0000  627.0000           627.0000   \n",
       "mean      25.6541  100.0000           3.3362    7.2901    1203286459.6109   \n",
       "min       24.3750  100.0000           0.0000    7.1898             0.1734   \n",
       "25%       25.1875  100.0000           0.0000    7.2352           277.9381   \n",
       "50%       25.5000  100.0000           0.0000    7.2398          7125.1328   \n",
       "75%       26.1875  100.0000           4.6270    7.2443        173163.5782   \n",
       "max       27.2500  100.0000          33.4750    8.2203  427000000000.0000   \n",
       "std        0.7186    0.0000           5.9733    0.2109   18178161911.6460   \n",
       "\n",
       "         Nitrate Population Fish_Length Fish_Weight  \\\n",
       "count   627.0000   627.0000    627.0000    627.0000   \n",
       "mean    706.7193    50.0000     15.4438     39.7517   \n",
       "min     480.0000    50.0000     14.1200     33.8000   \n",
       "25%     629.0000    50.0000     15.3714     39.3429   \n",
       "50%     656.0000    50.0000     15.3714     39.3429   \n",
       "75%     708.5000    50.0000     15.6843     40.9286   \n",
       "max    2165.0000    50.0000     15.6843     40.9286   \n",
       "std     167.4747     0.0000      0.3473      1.6015   \n",
       "\n",
       "                            Datetime  \n",
       "count                            627  \n",
       "mean   2021-07-07 09:50:00.905901056  \n",
       "min              2021-06-25 15:14:07  \n",
       "25%              2021-07-07 19:32:12  \n",
       "50%              2021-07-07 23:38:48  \n",
       "75%       2021-07-08 08:10:41.500000  \n",
       "max              2021-07-08 17:09:22  \n",
       "std                              NaN  "
      ]
     },
     "execution_count": 23,
     "metadata": {},
     "output_type": "execute_result"
    }
   ],
   "source": [
    "# use datetime_is_numeric = True to get statistics on the datetime column\n",
    "desc = df.describe(datetime_is_numeric = True)\n",
    "\n",
    "#force the printout not to use scientific notation\n",
    "desc[desc.columns[:-1]] = desc[desc.columns[:-1]].apply(lambda x: x.apply(\"{0:.4f}\".format))\n",
    "desc"
   ]
  },
  {
   "cell_type": "markdown",
   "metadata": {},
   "source": [
    "We have 627 records in total. "
   ]
  },
  {
   "cell_type": "code",
   "execution_count": 25,
   "metadata": {},
   "outputs": [
    {
     "name": "stdout",
     "output_type": "stream",
     "text": [
      "3\n"
     ]
    },
    {
     "data": {
      "text/plain": [
       "array([datetime.date(2021, 6, 25), datetime.date(2021, 7, 7),\n",
       "       datetime.date(2021, 7, 8)], dtype=object)"
      ]
     },
     "execution_count": 25,
     "metadata": {},
     "output_type": "execute_result"
    }
   ],
   "source": [
    "d=df[\"Date\"].unique()\n",
    "print(len(d))\n",
    "d"
   ]
  },
  {
   "cell_type": "code",
   "execution_count": 26,
   "metadata": {},
   "outputs": [
    {
     "name": "stdout",
     "output_type": "stream",
     "text": [
      "3\n"
     ]
    },
    {
     "data": {
      "text/plain": [
       "array([33.8       , 39.34285716, 40.92857145])"
      ]
     },
     "execution_count": 26,
     "metadata": {},
     "output_type": "execute_result"
    }
   ],
   "source": [
    "a=df[\"Fish_Weight\"].unique()\n",
    "print(len(a))\n",
    "a"
   ]
  },
  {
   "cell_type": "code",
   "execution_count": 28,
   "metadata": {},
   "outputs": [
    {
     "name": "stdout",
     "output_type": "stream",
     "text": [
      "2021-06-25 ----------->  [33.8]\n",
      "2021-07-07 ----------->  [39.34285716]\n",
      "2021-07-08 ----------->  [40.92857145]\n"
     ]
    }
   ],
   "source": [
    "for i in range(len(date_group)):\n",
    "    print(d[i],'-----------> ',date_group.get_group(d[i])[\"Fish_Weight\"].unique())"
   ]
  },
  {
   "cell_type": "markdown",
   "metadata": {},
   "source": [
    "Not pursuing cleaning this dataset furthur."
   ]
  },
  {
   "cell_type": "code",
   "execution_count": null,
   "metadata": {},
   "outputs": [],
   "source": []
  }
 ],
 "metadata": {
  "kernelspec": {
   "display_name": "Python 3",
   "language": "python",
   "name": "python3"
  },
  "language_info": {
   "codemirror_mode": {
    "name": "ipython",
    "version": 3
   },
   "file_extension": ".py",
   "mimetype": "text/x-python",
   "name": "python",
   "nbconvert_exporter": "python",
   "pygments_lexer": "ipython3",
   "version": "3.8.3"
  }
 },
 "nbformat": 4,
 "nbformat_minor": 4
}
